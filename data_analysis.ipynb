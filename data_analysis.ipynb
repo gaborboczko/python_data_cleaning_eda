{
 "cells": [
  {
   "cell_type": "code",
   "execution_count": null,
   "id": "initial_id",
   "metadata": {
    "collapsed": true
   },
   "outputs": [],
   "source": [
    "import pandas as pd\n",
    "import numpy as np\n",
    "import matplotlib.pylab as plt\n",
    "import seaborn as sns\n",
    "plt.style.use('ggplot')\n",
    "pd.set_option('max_columns', 200)"
   ]
  },
  {
   "cell_type": "code",
   "outputs": [],
   "source": [
    "df = pd.read_csv('/Users/boczagaba/PycharmProjects/data_analysis/coaster_db.csv')"
   ],
   "metadata": {
    "collapsed": false
   },
   "id": "556c2fe9809fd680"
  },
  {
   "cell_type": "markdown",
   "source": [
    "Looking at the Data"
   ],
   "metadata": {
    "collapsed": false
   },
   "id": "28001ab7457101a3"
  },
  {
   "cell_type": "code",
   "outputs": [],
   "source": [
    "df.shape"
   ],
   "metadata": {
    "collapsed": false
   },
   "id": "1f48ec3e39744a3b"
  },
  {
   "cell_type": "code",
   "outputs": [],
   "source": [
    "df.head(5)"
   ],
   "metadata": {
    "collapsed": false
   },
   "id": "b9d3cd3fdee948f4"
  },
  {
   "cell_type": "code",
   "outputs": [],
   "source": [
    "df.columns"
   ],
   "metadata": {
    "collapsed": false
   },
   "id": "8e0323c214287265"
  },
  {
   "cell_type": "code",
   "outputs": [],
   "source": [
    "df.dtypes"
   ],
   "metadata": {
    "collapsed": false
   },
   "id": "6c0e710a65b53b63"
  },
  {
   "cell_type": "code",
   "outputs": [],
   "source": [
    "df.describe()"
   ],
   "metadata": {
    "collapsed": false
   },
   "id": "4a6370b4a0ac0d7e"
  },
  {
   "cell_type": "markdown",
   "source": [
    "Cleaning the Data"
   ],
   "metadata": {
    "collapsed": false
   },
   "id": "8ad3bf88366e7b7a"
  },
  {
   "cell_type": "code",
   "outputs": [],
   "source": [
    "df = df[['coaster_name',\n",
    "    'Location', 'Status',\n",
    "    'Manufacturer',\n",
    "    'year_introduced',\n",
    "    'latitude', 'longitude',\n",
    "    'Type_Main',\n",
    "    'opening_date_clean',\n",
    "    'speed_mph',\n",
    "    'height_ft',\n",
    "    'Inversions_clean', 'Gforce_clean']].copy()"
   ],
   "metadata": {
    "collapsed": false
   },
   "id": "cb0a4e63852bc686"
  },
  {
   "cell_type": "code",
   "outputs": [],
   "source": [
    "df['opening_date_clean'] = pd.to_datetime(df['opening_date_clean'])"
   ],
   "metadata": {
    "collapsed": false
   },
   "id": "a092d76f290b81b6"
  },
  {
   "cell_type": "code",
   "outputs": [],
   "source": [
    "df = df.rename(columns={'coaster_name':'Coaster_Name',\n",
    "                   'year_introduced':'Year_Introduced',\n",
    "                   'opening_date_clean':'Opening_Date',\n",
    "                   'speed_mph':'Speed_mph',\n",
    "                   'height_ft':'Height_ft',\n",
    "                   'Inversions_clean':'Inversions',\n",
    "                   'Gforce_clean':'Gforce'})"
   ],
   "metadata": {
    "collapsed": false
   },
   "id": "a7787b200dd7b186"
  },
  {
   "cell_type": "code",
   "outputs": [],
   "source": [
    "df.isna().sum()"
   ],
   "metadata": {
    "collapsed": false
   },
   "id": "cebae879ded34cb0"
  },
  {
   "cell_type": "code",
   "outputs": [],
   "source": [
    "df.loc[df.duplicated()]"
   ],
   "metadata": {
    "collapsed": false
   },
   "id": "2300a4ca6d2a7f1f"
  },
  {
   "cell_type": "code",
   "outputs": [],
   "source": [
    "df.loc[df.duplicated(subset=['Coaster_Name'])].head(5)"
   ],
   "metadata": {
    "collapsed": false
   },
   "id": "e644b76ba69cd089"
  },
  {
   "cell_type": "code",
   "outputs": [],
   "source": [
    "df.query('Coaster_Name == \"Crystal Beach Cyclone\"')"
   ],
   "metadata": {
    "collapsed": false
   },
   "id": "d86d8a2b0b7d5a3c"
  },
  {
   "cell_type": "code",
   "outputs": [],
   "source": [
    "df.columns"
   ],
   "metadata": {
    "collapsed": false
   },
   "id": "7ab423b89c3c6059"
  },
  {
   "cell_type": "code",
   "outputs": [],
   "source": [
    "df = df.loc[~df.duplicated(subset=['Coaster_Name','Location','Opening_Date'])] \\\n",
    "    .reset_index(drop=True).copy()"
   ],
   "metadata": {
    "collapsed": false
   },
   "id": "9cdbd0ff049c1ea6"
  },
  {
   "cell_type": "markdown",
   "source": [
    "Univariate Analysis"
   ],
   "metadata": {
    "collapsed": false
   },
   "id": "8f5c6d391e335967"
  },
  {
   "cell_type": "code",
   "outputs": [],
   "source": [
    "df['Year_Introduced'].value_counts()"
   ],
   "metadata": {
    "collapsed": false
   },
   "id": "e25995c3ac9a44a3"
  },
  {
   "cell_type": "code",
   "outputs": [],
   "source": [
    "ax = df['Year_Introduced'].value_counts() \\\n",
    "    .head(10) \\\n",
    "    .plot(kind='bar', title='Top 10 Years Coasters Introduced')\n",
    "ax.set_xlabel('Year Introduced')\n",
    "ax.set_ylabel('Count')"
   ],
   "metadata": {
    "collapsed": false
   },
   "id": "9a0f594128693cdc"
  },
  {
   "cell_type": "code",
   "outputs": [],
   "source": [
    "ax = df['Speed_mph'].plot(kind='hist',\n",
    "                          bins=20,\n",
    "                          title='Coaster Speed (mph)')\n",
    "ax.set_xlabel('Speed (mph)')"
   ],
   "metadata": {
    "collapsed": false
   },
   "id": "6af2067322f2ec70"
  },
  {
   "cell_type": "code",
   "outputs": [],
   "source": [
    "ax = df['Speed_mph'].plot(kind='kde',\n",
    "                          title='Coaster Speed (mph)')\n",
    "ax.set_xlabel('Speed (mph)')"
   ],
   "metadata": {
    "collapsed": false
   },
   "id": "5059942cf6269133"
  },
  {
   "cell_type": "code",
   "outputs": [],
   "source": [
    "df['Type_Main'].value_counts()"
   ],
   "metadata": {
    "collapsed": false
   },
   "id": "d105f13f469db957"
  },
  {
   "cell_type": "markdown",
   "source": [
    "Getting insight from relationships between variables"
   ],
   "metadata": {
    "collapsed": false
   },
   "id": "132aea3284da356"
  },
  {
   "cell_type": "code",
   "outputs": [],
   "source": [
    "df.plot(kind='scatter',\n",
    "        x='Speed_mph',\n",
    "        y='Height_ft',\n",
    "        title='Coaster Speed vs. Height')\n",
    "plt.show()"
   ],
   "metadata": {
    "collapsed": false
   },
   "id": "ac69d38b023309ca"
  },
  {
   "cell_type": "code",
   "outputs": [],
   "source": [
    "ax = sns.scatterplot(x='Speed_mph',\n",
    "                y='Height_ft',\n",
    "                hue='Year_Introduced',\n",
    "                data=df)\n",
    "ax.set_title('Coaster Speed vs. Height')\n",
    "plt.show()"
   ],
   "metadata": {
    "collapsed": false
   },
   "id": "ef110f48f7b87554"
  },
  {
   "cell_type": "code",
   "outputs": [],
   "source": [
    "sns.pairplot(df,\n",
    "             vars=['Year_Introduced','Speed_mph',\n",
    "                   'Height_ft','Inversions','Gforce'],\n",
    "            hue='Type_Main')\n",
    "plt.show()"
   ],
   "metadata": {
    "collapsed": false
   },
   "id": "929605b8b1658c18"
  },
  {
   "cell_type": "code",
   "outputs": [],
   "source": [
    "df_corr = df[['Year_Introduced','Speed_mph',\n",
    "    'Height_ft','Inversions','Gforce']].dropna().corr()\n",
    "df_corr"
   ],
   "metadata": {
    "collapsed": false
   },
   "id": "c2654f25d343f6d7"
  },
  {
   "cell_type": "code",
   "outputs": [],
   "source": [
    "sns.heatmap(df_corr, annot=True)"
   ],
   "metadata": {
    "collapsed": false
   },
   "id": "4c564406f9754f1f"
  },
  {
   "cell_type": "markdown",
   "source": [
    "Asking questions"
   ],
   "metadata": {
    "collapsed": false
   },
   "id": "b33d0a06d1b53208"
  },
  {
   "cell_type": "markdown",
   "source": [
    "What are the locations with the fastest roller coasters (minimum of 10)?"
   ],
   "metadata": {
    "collapsed": false
   },
   "id": "263b648329421e6e"
  },
  {
   "cell_type": "code",
   "outputs": [],
   "source": [
    "ax = df.query('Location != \"Other\"') \\\n",
    "    .groupby('Location')['Speed_mph'] \\\n",
    "    .agg(['mean','count']) \\\n",
    "    .query('count >= 10') \\\n",
    "    .sort_values('mean')['mean'] \\\n",
    "    .plot(kind='barh', figsize=(12, 5), title='Average Coast Speed by Location')\n",
    "ax.set_xlabel('Average Coaster Speed')\n",
    "plt.show()"
   ],
   "metadata": {
    "collapsed": false
   },
   "id": "aa3148ac2f909207"
  }
 ],
 "metadata": {
  "kernelspec": {
   "display_name": "Python 3",
   "language": "python",
   "name": "python3"
  },
  "language_info": {
   "codemirror_mode": {
    "name": "ipython",
    "version": 2
   },
   "file_extension": ".py",
   "mimetype": "text/x-python",
   "name": "python",
   "nbconvert_exporter": "python",
   "pygments_lexer": "ipython2",
   "version": "2.7.6"
  }
 },
 "nbformat": 4,
 "nbformat_minor": 5
}
